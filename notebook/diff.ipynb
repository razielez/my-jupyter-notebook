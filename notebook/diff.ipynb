{
 "cells": [
  {
   "cell_type": "code",
   "execution_count": 17,
   "id": "recognized-enforcement",
   "metadata": {},
   "outputs": [
    {
     "name": "stdout",
     "output_type": "stream",
     "text": [
      "{'日漫壁纸\\n', '紫色头像\\n', '罗云熙\\n', '魔道祖师\\n', '格子壁纸\\n', '拍一拍\\n', '丁禹兮\\n', '卡贴\\n', '网名女\\n', '天气之子\\n', '万茜\\n', '水印素材\\n', '夏天\\n', 'gif表情包\\n', '陈芊芊\\n', '网抑云\\n', '奶茶头像\\n', '瑶\\n', '沙雕\\n', '溶图素材\\n', '2\\n', '沙雕猫\\n', '精灵\\n', '两格壁纸\\n', '潮图壁纸\\n', '端午节\\n', '手写底图\\n', '月上重火\\n', '可爱情头\\n', 'sans\\n', '撒野\\n', '鲨鱼\\n', '传闻中的陈芊芊\\n', '团头\\n', '丸子妹\\n', '腹肌\\n', '喻言\\n', '唯美壁纸\\n', 'blingbling壁纸\\n', '迪士尼公主头像\\n', '少女壁纸\\n', '生气\\n', '粉色头像\\n', '励志壁纸\\n', '国风\\n', 'TFBOYS\\n', '青蛇\\n', '饮料壁纸\\n', '金泰亨\\n', '沙雕闺蜜头像\\n', '文字背景\\n', '江南百景图\\n', '夏日壁纸\\n', '情侣聊天背景\\n', '刘雨昕\\n', '悲伤蛙\\n', '水果头像\\n'}\n"
     ]
    }
   ],
   "source": [
    "s1 = set()\n",
    "s2 = set()\n",
    "\n",
    "with open('./a', 'r') as f:\n",
    "    s1 = set(f)\n",
    "    \n",
    "with open('./b', 'r') as f:\n",
    "    s2 = set(f)\n",
    "\n",
    "# print(s1 & s2)\n",
    "print(s1 - s2)"
   ]
  }
 ],
 "metadata": {
  "kernelspec": {
   "display_name": "Python 3",
   "language": "python",
   "name": "python3"
  },
  "language_info": {
   "codemirror_mode": {
    "name": "ipython",
    "version": 3
   },
   "file_extension": ".py",
   "mimetype": "text/x-python",
   "name": "python",
   "nbconvert_exporter": "python",
   "pygments_lexer": "ipython3",
   "version": "3.9.4"
  }
 },
 "nbformat": 4,
 "nbformat_minor": 5
}
